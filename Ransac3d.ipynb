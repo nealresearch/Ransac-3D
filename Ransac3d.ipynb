{
 "cells": [
  {
   "cell_type": "code",
   "execution_count": 1,
   "id": "a8f6cd2f",
   "metadata": {},
   "outputs": [],
   "source": [
    "import random\n",
    "import numpy as np\n",
    "import matplotlib\n",
    "import matplotlib.pyplot as plt\n",
    "import plotly.express as px\n",
    "from sklearn.neighbors import KDTree\n",
    "\n",
    "dataFolder = \"Inpath\"\n",
    "dataset=\"buildingFull.xyz\"\n",
    "pcd = np.loadtxt(dataFolder+dataset)\n",
    "xyz=pcd[:,:3]\n",
    "\n",
    "\n",
    "tree = KDTree(np.array(xyz), leaf_size=2)  \n",
    "\n",
    "\n",
    "nearest_dist, nearest_ind = tree.query(xyz, k=12)\n",
    "np.mean(nearest_dist[:,1:],axis=0)\n",
    "\n",
    "def ransac_plane(xyz, threshold=3, iterations=1000):\n",
    "  inliers=[]\n",
    "  equation = None\n",
    "  n_points=len(xyz)\n",
    "  i=1\n",
    "  while i < iterations:\n",
    "    idx_samples = random.sample(range(n_points), 3)\n",
    "    pts = xyz[idx_samples]\n",
    "    vecA = pts[1] - pts[0]\n",
    "    vecB = pts[2] - pts[0]\n",
    "    normal = np.cross(vecA, vecB)\n",
    "    a,b,c = normal\n",
    "    d=-np.sum(normal*pts[1])\n",
    "    distance = (a * xyz[:,0] + b * xyz[:,1] + c * xyz[:,2] + d) / np.sqrt(a ** 2 + b ** 2 + c ** 2)\n",
    "    idx_candidates = np.where(np.abs(distance) <= threshold)[0]\n",
    "    \n",
    "    if len(idx_candidates) > len(inliers):\n",
    "      equation = [a,b,c,d]\n",
    "      inliers = idx_candidates.copy()\n",
    "    \n",
    "    i+=1\n",
    "  return equation, inliers\n",
    "\n",
    "\n",
    "eq,idx_inliers=ransac_plane(xyz)\n",
    "inliers=xyz[idx_inliers]\n",
    "\n",
    "\n",
    "mask = np.ones(len(xyz), dtype=bool)\n",
    "mask[idx_inliers] = False\n",
    "outliers=xyz[mask]\n",
    "\n",
    "\n",
    "result_folder=\"M:\\\\lidar\\\\Test\\\\\"\n",
    "np.savetxt(result_folder+dataset.split(\".\")[0]+\"_inliers.xyz\", inliers, fmt='%1.4f', delimiter=';')\n",
    "np.savetxt(result_folder+dataset.split(\".\")[0]+\"_outliers.xyz\", outliers, fmt='%1.4f', delimiter=';')"
   ]
  }
 ],
 "metadata": {
  "kernelspec": {
   "display_name": "Python 3",
   "language": "python",
   "name": "python3"
  },
  "language_info": {
   "codemirror_mode": {
    "name": "ipython",
    "version": 3
   },
   "file_extension": ".py",
   "mimetype": "text/x-python",
   "name": "python",
   "nbconvert_exporter": "python",
   "pygments_lexer": "ipython3",
   "version": "3.8.8"
  }
 },
 "nbformat": 4,
 "nbformat_minor": 5
}
